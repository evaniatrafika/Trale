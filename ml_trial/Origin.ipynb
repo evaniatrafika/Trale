{
 "cells": [
  {
   "cell_type": "code",
   "execution_count": null,
   "metadata": {},
   "outputs": [
    {
     "name": "stdout",
     "output_type": "stream",
     "text": [
      "Data exported to dataset.csv\n"
     ]
    }
   ],
   "source": [
    "import csv\n",
    "import random\n",
    "import re\n",
    "\n",
    "# List of categories and their corresponding subcategories\n",
    "categories1 = ['Culinary', 'Culture', 'History', 'Nature', 'Tourist Attraction']\n",
    "city = ['Jogja','Semarang',]\n",
    "categories2 = ['Tasty Food', 'Great View', 'Kind Person', 'Cheap Price', 'Expensive', 'Bad Food', 'Boring', 'Fun', 'Isolated', 'Mindful', 'Beautiful', 'Kind', 'Noisy', 'Peaceful', 'Respectable','Recommended','Hated','Not Recommended']\n",
    "\n",
    "# Read names from a text file\n",
    "with open('first_names.all.txt', 'r', encoding='utf-8') as file:\n",
    "    names = [line.strip() for line in file if re.match(r'^[A-Za-z\\s]+$', line.strip())]\n",
    "\n",
    "# Randomize the names\n",
    "random.shuffle(names)\n",
    "\n",
    "# Limit the dataset to 20,000 names\n",
    "names = names[:20000]\n",
    "\n",
    "\n",
    "# Generate random ratings\n",
    "ratings = [round(random.uniform(1, 5), 1) for _ in range(20000)]\n",
    "\n",
    "# Generate random categories and corresponding subcategories\n",
    "categories1 = random.choices(categories1, k=20000)\n",
    "city = random.choices(city, k=20000)\n",
    "categories2 = random.choices(categories2, k=20000)\n",
    "\n",
    "# Prepare data for CSV export\n",
    "data = zip(names, ratings, categories1, categories2, city)\n",
    "\n",
    "# Define the CSV file path\n",
    "csv_file = 'dataset.csv'\n",
    "\n",
    "# Export data to CSV\n",
    "with open(csv_file, 'w', newline='') as file:\n",
    "    writer = csv.writer(file)\n",
    "    writer.writerow(['Name', 'Rating', 'Category1', 'Category2', 'City'])\n",
    "    writer.writerows(data)\n",
    "\n",
    "print('Data exported to', csv_file)\n"
   ]
  },
  {
   "attachments": {},
   "cell_type": "markdown",
   "metadata": {},
   "source": [
    "Update here\n"
   ]
  },
  {
   "cell_type": "code",
   "execution_count": 7,
   "metadata": {},
   "outputs": [
    {
     "name": "stdout",
     "output_type": "stream",
     "text": [
      "Data exported to dataset.csv\n"
     ]
    }
   ],
   "source": [
    "import csv\n",
    "import random\n",
    "import re\n",
    "\n",
    "# List of categories and their corresponding subcategories\n",
    "categories1 = ['Culinary', 'Culture', 'History', 'Nature', 'Tourist Attraction']\n",
    "city = ['Jogja', 'Semarang']\n",
    "categories2 = ['Tasty Food', 'Great View', 'Kind Person', 'Cheap Price', 'Expensive', 'Bad Food', 'Boring', 'Fun', 'Isolated', 'Mindful', 'Beautiful', 'Kind', 'Noisy', 'Peaceful', 'Respectable', 'Recommended', 'Hated', 'Not Recommended']\n",
    "\n",
    "# Read names from a text file\n",
    "with open('first_names.all.txt', 'r', encoding='utf-8') as file:\n",
    "    names = [line.strip() for line in file if re.match(r'^[A-Za-z\\s]+$', line.strip())]\n",
    "\n",
    "# Randomize the names\n",
    "random.shuffle(names)\n",
    "\n",
    "# Limit the dataset to 20,000 names\n",
    "names = names[:20000]\n",
    "\n",
    "# Generate random ratings\n",
    "ratings = [round(random.uniform(3, 5), 1) for _ in range(20000)]\n",
    "\n",
    "# Generate random categories and corresponding subcategories\n",
    "categories1 = random.choices(categories1, k=20000)\n",
    "city = random.choices(city, k=20000)\n",
    "categories2 = random.choices(categories2, k=20000)\n",
    "\n",
    "# Prepare data for CSV export\n",
    "data = list(zip(names, ratings, categories1, categories2, city))\n",
    "\n",
    "# Define the CSV file path\n",
    "csv_file = 'dataset.csv'\n",
    "\n",
    "# Function to randomly pick places from the corresponding tourism file\n",
    "def get_random_place(tourism_file):\n",
    "    try:\n",
    "        with open(tourism_file, 'r', encoding='utf-8') as file:\n",
    "            reader = csv.reader(file)\n",
    "            places = [row[0] for row in reader if len(row) > 0 and row[0].strip()]  # Assuming place column is at index 0\n",
    "    except FileNotFoundError:\n",
    "        print(f\"Tourism file '{tourism_file}' not found.\")\n",
    "        return ''\n",
    "\n",
    "    return random.choice(places) if places else ''\n",
    "\n",
    "# Add places column based on city\n",
    "for i, row in enumerate(data):\n",
    "    city = row[4]\n",
    "    if city == 'Jogja':\n",
    "        place = get_random_place('Yogyakarta_Tourism.csv')\n",
    "    elif city == 'Semarang':\n",
    "        place = get_random_place('Semarang_Tourism.csv')\n",
    "    else:\n",
    "        place = ''\n",
    "    \n",
    "    data[i] = row[:4] + (place,) + row[4:]\n",
    "\n",
    "# Export data to CSV\n",
    "with open(csv_file, 'w', newline='') as file:\n",
    "    writer = csv.writer(file)\n",
    "    writer.writerow(['Name', 'Rating', 'Category1', 'Category2', 'Place', 'City'])\n",
    "    writer.writerows(data)\n",
    "\n",
    "print('Data exported to', csv_file)\n"
   ]
  },
  {
   "cell_type": "code",
   "execution_count": 6,
   "metadata": {},
   "outputs": [
    {
     "ename": "ModuleNotFoundError",
     "evalue": "No module named 'openpyxl'",
     "output_type": "error",
     "traceback": [
      "\u001b[1;31m---------------------------------------------------------------------------\u001b[0m",
      "\u001b[1;31mModuleNotFoundError\u001b[0m                       Traceback (most recent call last)",
      "Cell \u001b[1;32mIn[6], line 11\u001b[0m\n\u001b[0;32m      8\u001b[0m data \u001b[39m=\u001b[39m pd\u001b[39m.\u001b[39mread_csv(csv_file)\n\u001b[0;32m     10\u001b[0m \u001b[39m# Convert the DataFrame to an Excel file\u001b[39;00m\n\u001b[1;32m---> 11\u001b[0m data\u001b[39m.\u001b[39;49mto_excel(excel_file, index\u001b[39m=\u001b[39;49m\u001b[39mFalse\u001b[39;49;00m)\n\u001b[0;32m     13\u001b[0m \u001b[39mprint\u001b[39m(\u001b[39m'\u001b[39m\u001b[39mCSV file converted to Excel:\u001b[39m\u001b[39m'\u001b[39m, excel_file)\n",
      "File \u001b[1;32md:\\python\\lib\\site-packages\\pandas\\util\\_decorators.py:211\u001b[0m, in \u001b[0;36mdeprecate_kwarg.<locals>._deprecate_kwarg.<locals>.wrapper\u001b[1;34m(*args, **kwargs)\u001b[0m\n\u001b[0;32m    209\u001b[0m     \u001b[39melse\u001b[39;00m:\n\u001b[0;32m    210\u001b[0m         kwargs[new_arg_name] \u001b[39m=\u001b[39m new_arg_value\n\u001b[1;32m--> 211\u001b[0m \u001b[39mreturn\u001b[39;00m func(\u001b[39m*\u001b[39margs, \u001b[39m*\u001b[39m\u001b[39m*\u001b[39mkwargs)\n",
      "File \u001b[1;32md:\\python\\lib\\site-packages\\pandas\\util\\_decorators.py:211\u001b[0m, in \u001b[0;36mdeprecate_kwarg.<locals>._deprecate_kwarg.<locals>.wrapper\u001b[1;34m(*args, **kwargs)\u001b[0m\n\u001b[0;32m    209\u001b[0m     \u001b[39melse\u001b[39;00m:\n\u001b[0;32m    210\u001b[0m         kwargs[new_arg_name] \u001b[39m=\u001b[39m new_arg_value\n\u001b[1;32m--> 211\u001b[0m \u001b[39mreturn\u001b[39;00m func(\u001b[39m*\u001b[39margs, \u001b[39m*\u001b[39m\u001b[39m*\u001b[39mkwargs)\n",
      "File \u001b[1;32md:\\python\\lib\\site-packages\\pandas\\core\\generic.py:2374\u001b[0m, in \u001b[0;36mNDFrame.to_excel\u001b[1;34m(self, excel_writer, sheet_name, na_rep, float_format, columns, header, index, index_label, startrow, startcol, engine, merge_cells, encoding, inf_rep, verbose, freeze_panes, storage_options)\u001b[0m\n\u001b[0;32m   2361\u001b[0m \u001b[39mfrom\u001b[39;00m \u001b[39mpandas\u001b[39;00m\u001b[39m.\u001b[39;00m\u001b[39mio\u001b[39;00m\u001b[39m.\u001b[39;00m\u001b[39mformats\u001b[39;00m\u001b[39m.\u001b[39;00m\u001b[39mexcel\u001b[39;00m \u001b[39mimport\u001b[39;00m ExcelFormatter\n\u001b[0;32m   2363\u001b[0m formatter \u001b[39m=\u001b[39m ExcelFormatter(\n\u001b[0;32m   2364\u001b[0m     df,\n\u001b[0;32m   2365\u001b[0m     na_rep\u001b[39m=\u001b[39mna_rep,\n\u001b[1;32m   (...)\u001b[0m\n\u001b[0;32m   2372\u001b[0m     inf_rep\u001b[39m=\u001b[39minf_rep,\n\u001b[0;32m   2373\u001b[0m )\n\u001b[1;32m-> 2374\u001b[0m formatter\u001b[39m.\u001b[39;49mwrite(\n\u001b[0;32m   2375\u001b[0m     excel_writer,\n\u001b[0;32m   2376\u001b[0m     sheet_name\u001b[39m=\u001b[39;49msheet_name,\n\u001b[0;32m   2377\u001b[0m     startrow\u001b[39m=\u001b[39;49mstartrow,\n\u001b[0;32m   2378\u001b[0m     startcol\u001b[39m=\u001b[39;49mstartcol,\n\u001b[0;32m   2379\u001b[0m     freeze_panes\u001b[39m=\u001b[39;49mfreeze_panes,\n\u001b[0;32m   2380\u001b[0m     engine\u001b[39m=\u001b[39;49mengine,\n\u001b[0;32m   2381\u001b[0m     storage_options\u001b[39m=\u001b[39;49mstorage_options,\n\u001b[0;32m   2382\u001b[0m )\n",
      "File \u001b[1;32md:\\python\\lib\\site-packages\\pandas\\io\\formats\\excel.py:944\u001b[0m, in \u001b[0;36mExcelFormatter.write\u001b[1;34m(self, writer, sheet_name, startrow, startcol, freeze_panes, engine, storage_options)\u001b[0m\n\u001b[0;32m    940\u001b[0m     need_save \u001b[39m=\u001b[39m \u001b[39mFalse\u001b[39;00m\n\u001b[0;32m    941\u001b[0m \u001b[39melse\u001b[39;00m:\n\u001b[0;32m    942\u001b[0m     \u001b[39m# error: Cannot instantiate abstract class 'ExcelWriter' with abstract\u001b[39;00m\n\u001b[0;32m    943\u001b[0m     \u001b[39m# attributes 'engine', 'save', 'supported_extensions' and 'write_cells'\u001b[39;00m\n\u001b[1;32m--> 944\u001b[0m     writer \u001b[39m=\u001b[39m ExcelWriter(  \u001b[39m# type: ignore[abstract]\u001b[39;49;00m\n\u001b[0;32m    945\u001b[0m         writer, engine\u001b[39m=\u001b[39;49mengine, storage_options\u001b[39m=\u001b[39;49mstorage_options\n\u001b[0;32m    946\u001b[0m     )\n\u001b[0;32m    947\u001b[0m     need_save \u001b[39m=\u001b[39m \u001b[39mTrue\u001b[39;00m\n\u001b[0;32m    949\u001b[0m \u001b[39mtry\u001b[39;00m:\n",
      "File \u001b[1;32md:\\python\\lib\\site-packages\\pandas\\io\\excel\\_openpyxl.py:56\u001b[0m, in \u001b[0;36mOpenpyxlWriter.__init__\u001b[1;34m(self, path, engine, date_format, datetime_format, mode, storage_options, if_sheet_exists, engine_kwargs, **kwargs)\u001b[0m\n\u001b[0;32m     43\u001b[0m \u001b[39mdef\u001b[39;00m \u001b[39m__init__\u001b[39m(\n\u001b[0;32m     44\u001b[0m     \u001b[39mself\u001b[39m,\n\u001b[0;32m     45\u001b[0m     path: FilePath \u001b[39m|\u001b[39m WriteExcelBuffer \u001b[39m|\u001b[39m ExcelWriter,\n\u001b[1;32m   (...)\u001b[0m\n\u001b[0;32m     54\u001b[0m ) \u001b[39m-\u001b[39m\u001b[39m>\u001b[39m \u001b[39mNone\u001b[39;00m:\n\u001b[0;32m     55\u001b[0m     \u001b[39m# Use the openpyxl module as the Excel writer.\u001b[39;00m\n\u001b[1;32m---> 56\u001b[0m     \u001b[39mfrom\u001b[39;00m \u001b[39mopenpyxl\u001b[39;00m\u001b[39m.\u001b[39;00m\u001b[39mworkbook\u001b[39;00m \u001b[39mimport\u001b[39;00m Workbook\n\u001b[0;32m     58\u001b[0m     engine_kwargs \u001b[39m=\u001b[39m combine_kwargs(engine_kwargs, kwargs)\n\u001b[0;32m     60\u001b[0m     \u001b[39msuper\u001b[39m()\u001b[39m.\u001b[39m\u001b[39m__init__\u001b[39m(\n\u001b[0;32m     61\u001b[0m         path,\n\u001b[0;32m     62\u001b[0m         mode\u001b[39m=\u001b[39mmode,\n\u001b[1;32m   (...)\u001b[0m\n\u001b[0;32m     65\u001b[0m         engine_kwargs\u001b[39m=\u001b[39mengine_kwargs,\n\u001b[0;32m     66\u001b[0m     )\n",
      "\u001b[1;31mModuleNotFoundError\u001b[0m: No module named 'openpyxl'"
     ]
    }
   ],
   "source": [
    "import pandas as pd\n",
    "\n",
    "# Define the paths for the CSV and Excel files\n",
    "csv_file = 'dataset.csv'\n",
    "excel_file = 'dataset_rev.xlsx'\n",
    "\n",
    "# Read the CSV file into a pandas DataFrame\n",
    "data = pd.read_csv(csv_file)\n",
    "\n",
    "# Convert the DataFrame to an Excel file\n",
    "data.to_excel(excel_file, index=False)\n",
    "\n",
    "print('CSV file converted to Excel:', excel_file)\n"
   ]
  },
  {
   "attachments": {},
   "cell_type": "markdown",
   "metadata": {},
   "source": []
  },
  {
   "cell_type": "markdown",
   "metadata": {},
   "source": []
  }
 ],
 "metadata": {
  "kernelspec": {
   "display_name": "Python 3",
   "language": "python",
   "name": "python3"
  },
  "language_info": {
   "codemirror_mode": {
    "name": "ipython",
    "version": 3
   },
   "file_extension": ".py",
   "mimetype": "text/x-python",
   "name": "python",
   "nbconvert_exporter": "python",
   "pygments_lexer": "ipython3",
   "version": "3.10.9"
  },
  "orig_nbformat": 4
 },
 "nbformat": 4,
 "nbformat_minor": 2
}
