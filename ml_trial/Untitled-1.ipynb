{
 "cells": [
  {
   "cell_type": "code",
   "execution_count": 10,
   "metadata": {},
   "outputs": [
    {
     "name": "stdout",
     "output_type": "stream",
     "text": [
      "Data exported to dataset.csv\n"
     ]
    }
   ],
   "source": [
    "import csv\n",
    "import random\n",
    "import re\n",
    "\n",
    "# List of categories and their corresponding subcategories\n",
    "categories1 = ['Culinary', 'Culture', 'History', 'Nature', 'Tourist Attraction']\n",
    "city = ['Jogja', 'Dieng', 'Semarang', 'Solo', 'Purwokerto', 'Cilacap', 'Wonosobo', 'Magelang', 'Pekalongan', 'Kudus', 'Jepara']\n",
    "categories2 = ['Tasty Food', 'Great View', 'Kind Person', 'Cheap Price', 'Expensive', 'Bad Food', 'Boring', 'Fun', 'Isolated', 'Mindful', 'Beautiful', 'Kind', 'Noisy', 'Peaceful', 'Respectable','Recommended','Hated','Not Recommended']\n",
    "\n",
    "# Read names from a text file\n",
    "with open('first_names.all.txt', 'r', encoding='utf-8') as file:\n",
    "    names = [line.strip() for line in file if re.match(r'^[A-Za-z\\s]+$', line.strip())]\n",
    "\n",
    "# Randomize the names\n",
    "random.shuffle(names)\n",
    "\n",
    "# Limit the dataset to 20,000 names\n",
    "names = names[:20000]\n",
    "\n",
    "\n",
    "# Generate random ratings\n",
    "ratings = [round(random.uniform(1, 5), 1) for _ in range(20000)]\n",
    "\n",
    "# Generate random categories and corresponding subcategories\n",
    "categories1 = random.choices(categories1, k=20000)\n",
    "city = random.choices(city, k=20000)\n",
    "categories2 = random.choices(categories2, k=20000)\n",
    "\n",
    "# Prepare data for CSV export\n",
    "data = zip(names, ratings, categories1, categories2, city)\n",
    "\n",
    "# Define the CSV file path\n",
    "csv_file = 'dataset.csv'\n",
    "\n",
    "# Export data to CSV\n",
    "with open(csv_file, 'w', newline='') as file:\n",
    "    writer = csv.writer(file)\n",
    "    writer.writerow(['Name', 'Rating', 'Category1', 'Category2', 'City'])\n",
    "    writer.writerows(data)\n",
    "\n",
    "print('Data exported to', csv_file)\n"
   ]
  },
  {
   "cell_type": "code",
   "execution_count": 1,
   "metadata": {},
   "outputs": [
    {
     "name": "stdout",
     "output_type": "stream",
     "text": [
      "Data exported to dataset.csv\n"
     ]
    }
   ],
   "source": [
    "import csv\n",
    "import random\n",
    "import re\n",
    "\n",
    "# List of categories and their corresponding subcategories\n",
    "categories1 = ['Culinary', 'Culture', 'History', 'Nature', 'Tourist Attraction']\n",
    "city = ['Jogja', 'Dieng', 'Semarang', 'Solo', 'Purwokerto', 'Cilacap', 'Wonosobo', 'Magelang', 'Pekalongan', 'Kudus', 'Jepara']\n",
    "categories2 = ['Tasty Food', 'Great View', 'Kind Person', 'Cheap Price', 'Expensive', 'Bad Food', 'Boring', 'Fun', 'Isolated', 'Mindful', 'Beautiful', 'Kind', 'Noisy', 'Peaceful', 'Respectable','Recommended','Hated','Not Recommended']\n",
    "\n",
    "# Read names from a text file\n",
    "with open('first_names.all.txt', 'r', encoding='utf-8') as file:\n",
    "    names = [line.strip() for line in file if re.match(r'^[A-Za-z\\s]+$', line.strip())]\n",
    "\n",
    "# Randomize the names\n",
    "random.shuffle(names)\n",
    "\n",
    "# Limit the dataset to 20,000 names\n",
    "names = names[:20000]\n",
    "\n",
    "# Generate random ratings\n",
    "ratings = [round(random.uniform(1, 5), 1) for _ in range(20000)]\n",
    "\n",
    "# Generate random categories and corresponding subcategories\n",
    "categories1 = random.choices(categories1, k=20000)\n",
    "categories2 = random.choices(categories2, k=20000)\n",
    "\n",
    "# Read places from the package tourism CSV file\n",
    "package_tourism_data = []\n",
    "with open('package_tourism.csv', 'r', newline='', encoding='utf-8') as file:\n",
    "    reader = csv.reader(file)\n",
    "    package_tourism_data = [row for row in reader if row[4] in ['Semarang', 'Yogyakarta']]\n",
    "\n",
    "# Randomize the places\n",
    "random.shuffle(package_tourism_data)\n",
    "\n",
    "# Limit the dataset to 20000 places\n",
    "package_tourism_data = package_tourism_data[:20000]\n",
    "\n",
    "# Extract places, ratings, and categories from package tourism data\n",
    "places = [row[0] for row in package_tourism_data]\n",
    "ratings += [round(random.uniform(1, 5), 1) for _ in range(len(package_tourism_data))]\n",
    "categories1 += random.choices(categories1, k=len(package_tourism_data))\n",
    "categories2 += random.choices(categories2, k=len(package_tourism_data))\n",
    "city += [row[4] for row in package_tourism_data]\n",
    "\n",
    "# Prepare data for CSV export\n",
    "data = zip(names, ratings, categories1, categories2, city)\n",
    "\n",
    "# Define the CSV file path\n",
    "csv_file = 'dataset.csv'\n",
    "\n",
    "# Export data to CSV\n",
    "with open(csv_file, 'w', newline='') as file:\n",
    "    writer = csv.writer(file)\n",
    "    writer.writerow(['Name', 'Rating', 'Category1', 'Category2', 'City'])\n",
    "    writer.writerows(data)\n",
    "\n",
    "print('Data exported to', csv_file)\n"
   ]
  },
  {
   "cell_type": "code",
   "execution_count": 2,
   "metadata": {},
   "outputs": [
    {
     "name": "stdout",
     "output_type": "stream",
     "text": [
      "Data exported to datasetbaru.csv\n"
     ]
    }
   ],
   "source": [
    "import csv\n",
    "import random\n",
    "\n",
    "# List of categories and their corresponding subcategories\n",
    "categories1 = ['Culinary', 'Culture', 'History', 'Nature', 'Tourist Attraction']\n",
    "city = ['Jogja', 'Dieng', 'Semarang', 'Solo', 'Purwokerto', 'Cilacap', 'Wonosobo', 'Magelang', 'Pekalongan', 'Kudus', 'Jepara']\n",
    "categories2 = ['Tasty Food', 'Great View', 'Kind Person', 'Cheap Price', 'Expensive', 'Bad Food', 'Boring', 'Fun', 'Isolated', 'Mindful', 'Beautiful', 'Kind', 'Noisy', 'Peaceful', 'Respectable','Recommended','Hated','Not Recommended']\n",
    "\n",
    "# Read names from a text file\n",
    "with open('first_names.all.txt', 'r', encoding='utf-8') as file:\n",
    "    names = [line.strip() for line in file]\n",
    "\n",
    "# Randomize the names\n",
    "random.shuffle(names)\n",
    "\n",
    "# Limit the dataset to 20,000 names\n",
    "names = names[:20000]\n",
    "\n",
    "# Generate random ratings\n",
    "ratings = [round(random.uniform(1, 5), 1) for _ in range(20000)]\n",
    "\n",
    "# Generate random categories and corresponding subcategories\n",
    "categories1 = random.choices(categories1, k=20000)\n",
    "categories2 = random.choices(categories2, k=20000)\n",
    "\n",
    "# Read and filter places from the package tourism CSV file\n",
    "places = []\n",
    "with open('package_tourism.csv', 'r', newline='', encoding='utf-8') as file:\n",
    "    reader = csv.reader(file)\n",
    "    for row in reader:\n",
    "        if row[4] in ['Semarang', 'Yogyakarta']:\n",
    "            places.append(row[0])\n",
    "\n",
    "# Randomize the places\n",
    "random.shuffle(places)\n",
    "\n",
    "# Limit the dataset to 20000 places\n",
    "places = places[:20000]\n",
    "\n",
    "# Prepare data for CSV export\n",
    "data = zip(names, ratings, categories1, categories2, places)\n",
    "\n",
    "# Define the CSV file path\n",
    "csv_file = 'datasetbaru.csv'\n",
    "\n",
    "# Export data to CSV\n",
    "with open(csv_file, 'w', newline='') as file:\n",
    "    writer = csv.writer(file)\n",
    "    writer.writerow(['Name', 'Rating', 'Category1', 'Category2', 'Place_Tourism'])\n",
    "    writer.writerows(data)\n",
    "\n",
    "print('Data exported to', csv_file)\n"
   ]
  },
  {
   "cell_type": "code",
   "execution_count": 3,
   "metadata": {},
   "outputs": [
    {
     "name": "stdout",
     "output_type": "stream",
     "text": [
      "Data exported to dataset.csv\n"
     ]
    }
   ],
   "source": [
    "import csv\n",
    "import random\n",
    "\n",
    "# List of categories and their corresponding subcategories\n",
    "categories1 = ['Culinary', 'Culture', 'History', 'Nature', 'Tourist Attraction']\n",
    "city = ['Jogja', 'Dieng', 'Semarang', 'Solo', 'Purwokerto', 'Cilacap', 'Wonosobo', 'Magelang', 'Pekalongan', 'Kudus', 'Jepara']\n",
    "categories2 = ['Tasty Food', 'Great View', 'Kind Person', 'Cheap Price', 'Expensive', 'Bad Food', 'Boring', 'Fun', 'Isolated', 'Mindful', 'Beautiful', 'Kind', 'Noisy', 'Peaceful', 'Respectable','Recommended','Hated','Not Recommended']\n",
    "\n",
    "# Read names from a text file\n",
    "with open('first_names.all.txt', 'r', encoding='utf-8') as file:\n",
    "    names = [line.strip() for line in file]\n",
    "\n",
    "# Randomize the names\n",
    "random.shuffle(names)\n",
    "\n",
    "# Limit the dataset to 20,000 names\n",
    "names = names[:20000]\n",
    "\n",
    "# Generate random ratings\n",
    "ratings = [round(random.uniform(1, 5), 1) for _ in range(20000)]\n",
    "\n",
    "# Generate random categories and corresponding subcategories\n",
    "categories1 = random.choices(categories1, k=20000)\n",
    "categories2 = random.choices(categories2, k=20000)\n",
    "\n",
    "# Read and filter places from the package tourism CSV file\n",
    "places = []\n",
    "with open('package_tourism.csv', 'r', newline='', encoding='utf-8') as file:\n",
    "    reader = csv.reader(file)\n",
    "    for row in reader:\n",
    "        if row[3] in ['Semarang', 'Yogyakarta']:\n",
    "            places.extend(row[4:9])  # Combine multiple columns into one column\n",
    "\n",
    "# Randomize the places\n",
    "random.shuffle(places)\n",
    "\n",
    "# Limit the dataset to 20000 places\n",
    "places = places[:20000]\n",
    "\n",
    "# Prepare data for CSV export\n",
    "data = zip(names, ratings, categories1, categories2, places)\n",
    "\n",
    "# Define the CSV file path\n",
    "csv_file = 'dataset.csv'\n",
    "\n",
    "# Export data to CSV\n",
    "with open(csv_file, 'w', newline='') as file:\n",
    "    writer = csv.writer(file)\n",
    "    writer.writerow(['Name', 'Rating', 'Category1', 'Category2', 'Place_Tourism'])\n",
    "    writer.writerows(data)\n",
    "\n",
    "print('Data exported to', csv_file)\n"
   ]
  },
  {
   "cell_type": "code",
   "execution_count": 4,
   "metadata": {},
   "outputs": [
    {
     "name": "stdout",
     "output_type": "stream",
     "text": [
      "Data exported to dataset.csv\n"
     ]
    }
   ],
   "source": [
    "import csv\n",
    "import random\n",
    "import re\n",
    "\n",
    "# List of categories and their corresponding subcategories\n",
    "categories1 = ['Culinary', 'Culture', 'History', 'Nature', 'Tourist Attraction']\n",
    "city = ['Jogja', 'Dieng', 'Semarang', 'Solo', 'Purwokerto', 'Cilacap', 'Wonosobo', 'Magelang', 'Pekalongan', 'Kudus', 'Jepara']\n",
    "categories2 = ['Tasty Food', 'Great View', 'Kind Person', 'Cheap Price', 'Expensive', 'Bad Food', 'Boring', 'Fun', 'Isolated', 'Mindful', 'Beautiful', 'Kind', 'Noisy', 'Peaceful', 'Respectable','Recommended','Hated','Not Recommended']\n",
    "\n",
    "# Read names from a text file\n",
    "with open('first_names.all.txt', 'r', encoding='utf-8') as file:\n",
    "    names = [line.strip() for line in file if re.match(r'^[A-Za-z\\s]+$', line.strip())]\n",
    "\n",
    "# Randomize the names\n",
    "random.shuffle(names)\n",
    "\n",
    "# Limit the dataset to 20,000 names\n",
    "names = names[:20000]\n",
    "\n",
    "\n",
    "# Generate random ratings\n",
    "ratings = [round(random.uniform(1, 5), 1) for _ in range(20000)]\n",
    "\n",
    "# Generate random categories and corresponding subcategories\n",
    "categories1 = random.choices(categories1, k=20000)\n",
    "city = random.choices(city, k=20000)\n",
    "categories2 = random.choices(categories2, k=20000)\n",
    "\n",
    "# Prepare data for CSV export\n",
    "data = zip(names, ratings, categories1, categories2, city)\n",
    "\n",
    "# Define the CSV file path\n",
    "csv_file = 'dataset.csv'\n",
    "\n",
    "# Export data to CSV\n",
    "with open(csv_file, 'w', newline='') as file:\n",
    "    writer = csv.writer(file)\n",
    "    writer.writerow(['Name', 'Rating', 'Category1', 'Category2', 'City'])\n",
    "    writer.writerows(data)\n",
    "\n",
    "print('Data exported to', csv_file)"
   ]
  },
  {
   "cell_type": "code",
   "execution_count": 6,
   "metadata": {},
   "outputs": [
    {
     "name": "stdout",
     "output_type": "stream",
     "text": [
      "Data exported to datasetnew.csv\n"
     ]
    }
   ],
   "source": [
    "import csv\n",
    "import random\n",
    "import re\n",
    "\n",
    "# List of categories and their corresponding subcategories\n",
    "categories1 = ['Culinary', 'Culture', 'History', 'Nature', 'Tourist Attraction']\n",
    "city = ['Jogja','Semarang']\n",
    "categories2 = ['Tasty Food', 'Great View', 'Kind Person', 'Cheap Price', 'Expensive', 'Bad Food', 'Boring', 'Fun', 'Isolated', 'Mindful', 'Beautiful', 'Kind', 'Noisy', 'Peaceful', 'Respectable','Recommended','Hated','Not Recommended']\n",
    "\n",
    "# Read names from a text file\n",
    "with open('first_names.all.txt', 'r', encoding='utf-8') as file:\n",
    "    names = [line.strip() for line in file if re.match(r'^[A-Za-z\\s]+$', line.strip())]\n",
    "\n",
    "# Randomize the names\n",
    "random.shuffle(names)\n",
    "\n",
    "# Limit the dataset to 20,000 names\n",
    "names = names[:20000]\n",
    "\n",
    "places = []\n",
    "with open('package_tourism.csv', 'r', newline='', encoding='utf-8') as file:\n",
    "    reader = csv.reader(file)\n",
    "    for row in reader:\n",
    "        if row[3] in ['Semarang', 'Yogyakarta']:\n",
    "            places.extend(row[4:9])  # Combine multiple columns into one column\n",
    "\n",
    "\n",
    "# Generate random ratings\n",
    "ratings = [round(random.uniform(1, 5), 1) for _ in range(20000)]\n",
    "\n",
    "# Generate random categories and corresponding subcategories\n",
    "categories1 = random.choices(categories1, k=20000)\n",
    "city = random.choices(city, k=20000)\n",
    "categories2 = random.choices(categories2, k=20000)\n",
    "\n",
    "# Prepare data for CSV export\n",
    "data = zip(names, ratings, categories1, categories2, city, places)\n",
    "\n",
    "# Define the CSV file path\n",
    "csv_file = 'datasetnew.csv'\n",
    "\n",
    "# Export data to CSV\n",
    "with open(csv_file, 'w', newline='') as file:\n",
    "    writer = csv.writer(file)\n",
    "    writer.writerow(['Name', 'Rating', 'Category1', 'Category2', 'City','Places'])\n",
    "    writer.writerows(data)\n",
    "\n",
    "print('Data exported to', csv_file)"
   ]
  },
  {
   "cell_type": "code",
   "execution_count": 8,
   "metadata": {},
   "outputs": [
    {
     "ename": "ModuleNotFoundError",
     "evalue": "No module named 'openpyxl'",
     "output_type": "error",
     "traceback": [
      "\u001b[1;31m---------------------------------------------------------------------------\u001b[0m",
      "\u001b[1;31mModuleNotFoundError\u001b[0m                       Traceback (most recent call last)",
      "Cell \u001b[1;32mIn[8], line 8\u001b[0m\n\u001b[0;32m      6\u001b[0m \u001b[39m# Convert the DataFrame to an Excel file with comma-separated values\u001b[39;00m\n\u001b[0;32m      7\u001b[0m excel_file \u001b[39m=\u001b[39m \u001b[39m'\u001b[39m\u001b[39medited_package_tourism.xlsx\u001b[39m\u001b[39m'\u001b[39m\n\u001b[1;32m----> 8\u001b[0m data\u001b[39m.\u001b[39;49mto_excel(excel_file, index\u001b[39m=\u001b[39;49m\u001b[39mFalse\u001b[39;49;00m)\n\u001b[0;32m     10\u001b[0m \u001b[39mprint\u001b[39m(\u001b[39m'\u001b[39m\u001b[39mCSV file converted to Excel:\u001b[39m\u001b[39m'\u001b[39m, excel_file)\n",
      "File \u001b[1;32md:\\python\\lib\\site-packages\\pandas\\util\\_decorators.py:211\u001b[0m, in \u001b[0;36mdeprecate_kwarg.<locals>._deprecate_kwarg.<locals>.wrapper\u001b[1;34m(*args, **kwargs)\u001b[0m\n\u001b[0;32m    209\u001b[0m     \u001b[39melse\u001b[39;00m:\n\u001b[0;32m    210\u001b[0m         kwargs[new_arg_name] \u001b[39m=\u001b[39m new_arg_value\n\u001b[1;32m--> 211\u001b[0m \u001b[39mreturn\u001b[39;00m func(\u001b[39m*\u001b[39margs, \u001b[39m*\u001b[39m\u001b[39m*\u001b[39mkwargs)\n",
      "File \u001b[1;32md:\\python\\lib\\site-packages\\pandas\\util\\_decorators.py:211\u001b[0m, in \u001b[0;36mdeprecate_kwarg.<locals>._deprecate_kwarg.<locals>.wrapper\u001b[1;34m(*args, **kwargs)\u001b[0m\n\u001b[0;32m    209\u001b[0m     \u001b[39melse\u001b[39;00m:\n\u001b[0;32m    210\u001b[0m         kwargs[new_arg_name] \u001b[39m=\u001b[39m new_arg_value\n\u001b[1;32m--> 211\u001b[0m \u001b[39mreturn\u001b[39;00m func(\u001b[39m*\u001b[39margs, \u001b[39m*\u001b[39m\u001b[39m*\u001b[39mkwargs)\n",
      "File \u001b[1;32md:\\python\\lib\\site-packages\\pandas\\core\\generic.py:2374\u001b[0m, in \u001b[0;36mNDFrame.to_excel\u001b[1;34m(self, excel_writer, sheet_name, na_rep, float_format, columns, header, index, index_label, startrow, startcol, engine, merge_cells, encoding, inf_rep, verbose, freeze_panes, storage_options)\u001b[0m\n\u001b[0;32m   2361\u001b[0m \u001b[39mfrom\u001b[39;00m \u001b[39mpandas\u001b[39;00m\u001b[39m.\u001b[39;00m\u001b[39mio\u001b[39;00m\u001b[39m.\u001b[39;00m\u001b[39mformats\u001b[39;00m\u001b[39m.\u001b[39;00m\u001b[39mexcel\u001b[39;00m \u001b[39mimport\u001b[39;00m ExcelFormatter\n\u001b[0;32m   2363\u001b[0m formatter \u001b[39m=\u001b[39m ExcelFormatter(\n\u001b[0;32m   2364\u001b[0m     df,\n\u001b[0;32m   2365\u001b[0m     na_rep\u001b[39m=\u001b[39mna_rep,\n\u001b[1;32m   (...)\u001b[0m\n\u001b[0;32m   2372\u001b[0m     inf_rep\u001b[39m=\u001b[39minf_rep,\n\u001b[0;32m   2373\u001b[0m )\n\u001b[1;32m-> 2374\u001b[0m formatter\u001b[39m.\u001b[39;49mwrite(\n\u001b[0;32m   2375\u001b[0m     excel_writer,\n\u001b[0;32m   2376\u001b[0m     sheet_name\u001b[39m=\u001b[39;49msheet_name,\n\u001b[0;32m   2377\u001b[0m     startrow\u001b[39m=\u001b[39;49mstartrow,\n\u001b[0;32m   2378\u001b[0m     startcol\u001b[39m=\u001b[39;49mstartcol,\n\u001b[0;32m   2379\u001b[0m     freeze_panes\u001b[39m=\u001b[39;49mfreeze_panes,\n\u001b[0;32m   2380\u001b[0m     engine\u001b[39m=\u001b[39;49mengine,\n\u001b[0;32m   2381\u001b[0m     storage_options\u001b[39m=\u001b[39;49mstorage_options,\n\u001b[0;32m   2382\u001b[0m )\n",
      "File \u001b[1;32md:\\python\\lib\\site-packages\\pandas\\io\\formats\\excel.py:944\u001b[0m, in \u001b[0;36mExcelFormatter.write\u001b[1;34m(self, writer, sheet_name, startrow, startcol, freeze_panes, engine, storage_options)\u001b[0m\n\u001b[0;32m    940\u001b[0m     need_save \u001b[39m=\u001b[39m \u001b[39mFalse\u001b[39;00m\n\u001b[0;32m    941\u001b[0m \u001b[39melse\u001b[39;00m:\n\u001b[0;32m    942\u001b[0m     \u001b[39m# error: Cannot instantiate abstract class 'ExcelWriter' with abstract\u001b[39;00m\n\u001b[0;32m    943\u001b[0m     \u001b[39m# attributes 'engine', 'save', 'supported_extensions' and 'write_cells'\u001b[39;00m\n\u001b[1;32m--> 944\u001b[0m     writer \u001b[39m=\u001b[39m ExcelWriter(  \u001b[39m# type: ignore[abstract]\u001b[39;49;00m\n\u001b[0;32m    945\u001b[0m         writer, engine\u001b[39m=\u001b[39;49mengine, storage_options\u001b[39m=\u001b[39;49mstorage_options\n\u001b[0;32m    946\u001b[0m     )\n\u001b[0;32m    947\u001b[0m     need_save \u001b[39m=\u001b[39m \u001b[39mTrue\u001b[39;00m\n\u001b[0;32m    949\u001b[0m \u001b[39mtry\u001b[39;00m:\n",
      "File \u001b[1;32md:\\python\\lib\\site-packages\\pandas\\io\\excel\\_openpyxl.py:56\u001b[0m, in \u001b[0;36mOpenpyxlWriter.__init__\u001b[1;34m(self, path, engine, date_format, datetime_format, mode, storage_options, if_sheet_exists, engine_kwargs, **kwargs)\u001b[0m\n\u001b[0;32m     43\u001b[0m \u001b[39mdef\u001b[39;00m \u001b[39m__init__\u001b[39m(\n\u001b[0;32m     44\u001b[0m     \u001b[39mself\u001b[39m,\n\u001b[0;32m     45\u001b[0m     path: FilePath \u001b[39m|\u001b[39m WriteExcelBuffer \u001b[39m|\u001b[39m ExcelWriter,\n\u001b[1;32m   (...)\u001b[0m\n\u001b[0;32m     54\u001b[0m ) \u001b[39m-\u001b[39m\u001b[39m>\u001b[39m \u001b[39mNone\u001b[39;00m:\n\u001b[0;32m     55\u001b[0m     \u001b[39m# Use the openpyxl module as the Excel writer.\u001b[39;00m\n\u001b[1;32m---> 56\u001b[0m     \u001b[39mfrom\u001b[39;00m \u001b[39mopenpyxl\u001b[39;00m\u001b[39m.\u001b[39;00m\u001b[39mworkbook\u001b[39;00m \u001b[39mimport\u001b[39;00m Workbook\n\u001b[0;32m     58\u001b[0m     engine_kwargs \u001b[39m=\u001b[39m combine_kwargs(engine_kwargs, kwargs)\n\u001b[0;32m     60\u001b[0m     \u001b[39msuper\u001b[39m()\u001b[39m.\u001b[39m\u001b[39m__init__\u001b[39m(\n\u001b[0;32m     61\u001b[0m         path,\n\u001b[0;32m     62\u001b[0m         mode\u001b[39m=\u001b[39mmode,\n\u001b[1;32m   (...)\u001b[0m\n\u001b[0;32m     65\u001b[0m         engine_kwargs\u001b[39m=\u001b[39mengine_kwargs,\n\u001b[0;32m     66\u001b[0m     )\n",
      "\u001b[1;31mModuleNotFoundError\u001b[0m: No module named 'openpyxl'"
     ]
    }
   ],
   "source": [
    "import pandas as pd\n",
    "\n",
    "# Read the CSV file into a pandas DataFrame\n",
    "data = pd.read_csv('edited_package_tourism.csv')\n",
    "\n",
    "# Convert the DataFrame to an Excel file with comma-separated values\n",
    "excel_file = 'edited_package_tourism.xlsx'\n",
    "data.to_excel(excel_file, index=False)\n",
    "\n",
    "print('CSV file converted to Excel:', excel_file)"
   ]
  },
  {
   "cell_type": "code",
   "execution_count": 10,
   "metadata": {},
   "outputs": [
    {
     "name": "stderr",
     "output_type": "stream",
     "text": [
      "ERROR: Could not find a version that satisfies the requirement openpyx1 (from versions: none)\n",
      "ERROR: No matching distribution found for openpyx1\n",
      "\n",
      "[notice] A new release of pip available: 22.3.1 -> 23.1.2\n",
      "[notice] To update, run: python.exe -m pip install --upgrade pip\n"
     ]
    }
   ],
   "source": [
    "!pip install openpyx1"
   ]
  },
  {
   "cell_type": "code",
   "execution_count": 15,
   "metadata": {},
   "outputs": [
    {
     "name": "stdout",
     "output_type": "stream",
     "text": [
      "Selected places exported to Semarang_Tourism.csv\n"
     ]
    }
   ],
   "source": [
    "import csv\n",
    "\n",
    "input_file = 'package_tourism.csv'\n",
    "output_file = 'Semarang_Tourism.csv'\n",
    "selected_places = []\n",
    "\n",
    "# Read the CSV file\n",
    "with open(input_file, 'r', newline='') as file:\n",
    "    reader = csv.DictReader(file)\n",
    "    \n",
    "    # Iterate over each row\n",
    "    for row in reader:\n",
    "        city = row['City']\n",
    "        \n",
    "        # Check if the city is either Semarang or Yogyakarta\n",
    "        if city == 'Semarang' :\n",
    "            # Add non-empty tourism places to the list\n",
    "            places = [row['Place_Tourism1'], row['Place_Tourism2'], row['Place_Tourism3'],\n",
    "                      row['Place_Tourism4'], row['Place_Tourism5']]\n",
    "            selected_places.extend(place for place in places if place.strip())\n",
    " \n",
    "# Write the selected places to a new CSV file\n",
    "with open(output_file, 'w', newline='') as file:\n",
    "    writer = csv.writer(file)\n",
    "    writer.writerow(['Selected Places'])\n",
    "    \n",
    "    # Write each selected place as a separate row\n",
    "    for place in selected_places:\n",
    "        writer.writerow([place])\n",
    "\n",
    "print('Selected places exported to', output_file)"
   ]
  },
  {
   "cell_type": "code",
   "execution_count": 16,
   "metadata": {},
   "outputs": [
    {
     "name": "stdout",
     "output_type": "stream",
     "text": [
      "Selected places exported to Yogyakarta_Tourism.csv\n"
     ]
    }
   ],
   "source": [
    "import csv\n",
    "\n",
    "input_file = 'package_tourism.csv'\n",
    "output_file = 'Yogyakarta_Tourism.csv'\n",
    "selected_places = []\n",
    "\n",
    "# Read the CSV file\n",
    "with open(input_file, 'r', newline='') as file:\n",
    "    reader = csv.DictReader(file)\n",
    "    \n",
    "    # Iterate over each row\n",
    "    for row in reader:\n",
    "        city = row['City']\n",
    "        \n",
    "        # Check if the city is either Semarang or Yogyakarta\n",
    "        if city == 'Yogyakarta':\n",
    "            # Add non-empty tourism places to the list\n",
    "            places = [row['Place_Tourism1'], row['Place_Tourism2'], row['Place_Tourism3'],\n",
    "                      row['Place_Tourism4'], row['Place_Tourism5']]\n",
    "            selected_places.extend(place for place in places if place.strip())\n",
    " \n",
    "# Write the selected places to a new CSV file\n",
    "with open(output_file, 'w', newline='') as file:\n",
    "    writer = csv.writer(file)\n",
    "    writer.writerow(['Selected Places'])\n",
    "    \n",
    "    # Write each selected place as a separate row\n",
    "    for place in selected_places:\n",
    "        writer.writerow([place])\n",
    "\n",
    "print('Selected places exported to', output_file)"
   ]
  },
  {
   "cell_type": "code",
   "execution_count": null,
   "metadata": {},
   "outputs": [],
   "source": []
  }
 ],
 "metadata": {
  "kernelspec": {
   "display_name": "Python 3",
   "language": "python",
   "name": "python3"
  },
  "language_info": {
   "codemirror_mode": {
    "name": "ipython",
    "version": 3
   },
   "file_extension": ".py",
   "mimetype": "text/x-python",
   "name": "python",
   "nbconvert_exporter": "python",
   "pygments_lexer": "ipython3",
   "version": "3.10.9"
  },
  "orig_nbformat": 4
 },
 "nbformat": 4,
 "nbformat_minor": 2
}
